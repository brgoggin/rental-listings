{
 "cells": [
  {
   "cell_type": "code",
   "execution_count": 14,
   "metadata": {
    "collapsed": false
   },
   "outputs": [],
   "source": [
    "with open('pg_engine.txt') as f:\n",
    "    pg_engine = f.readlines()\n",
    "from sqlalchemy import create_engine\n",
    "engine = create_engine(pg_engine[0])"
   ]
  },
  {
   "cell_type": "code",
   "execution_count": 11,
   "metadata": {
    "collapsed": false
   },
   "outputs": [],
   "source": [
    "import pandas as pd\n",
    "df = pd.read_sql_query('select * from \"rental_listings\"',con=engine)"
   ]
  },
  {
   "cell_type": "code",
   "execution_count": 12,
   "metadata": {
    "collapsed": false
   },
   "outputs": [
    {
     "name": "stdout",
     "output_type": "stream",
     "text": [
      "pid              object\n",
      "date             object\n",
      "region           object\n",
      "neighborhood     object\n",
      "rent            float64\n",
      "bedrooms        float64\n",
      "sqft            float64\n",
      "rent_sqft       float64\n",
      "longitude       float64\n",
      "latitude        float64\n",
      "county           object\n",
      "fips_block       object\n",
      "state            object\n",
      "dtype: object\n"
     ]
    },
    {
     "data": {
      "text/html": [
       "<div>\n",
       "<table border=\"1\" class=\"dataframe\">\n",
       "  <thead>\n",
       "    <tr style=\"text-align: right;\">\n",
       "      <th></th>\n",
       "      <th>rent</th>\n",
       "      <th>bedrooms</th>\n",
       "      <th>sqft</th>\n",
       "      <th>rent_sqft</th>\n",
       "      <th>longitude</th>\n",
       "      <th>latitude</th>\n",
       "    </tr>\n",
       "  </thead>\n",
       "  <tbody>\n",
       "    <tr>\n",
       "      <th>count</th>\n",
       "      <td>1.499090e+05</td>\n",
       "      <td>149909.000000</td>\n",
       "      <td>149909.000000</td>\n",
       "      <td>149909.000000</td>\n",
       "      <td>149909.000000</td>\n",
       "      <td>149909.000000</td>\n",
       "    </tr>\n",
       "    <tr>\n",
       "      <th>mean</th>\n",
       "      <td>3.048307e+03</td>\n",
       "      <td>1.923540</td>\n",
       "      <td>1107.049590</td>\n",
       "      <td>3.868691</td>\n",
       "      <td>-95.139311</td>\n",
       "      <td>36.833912</td>\n",
       "    </tr>\n",
       "    <tr>\n",
       "      <th>std</th>\n",
       "      <td>1.248294e+05</td>\n",
       "      <td>0.999565</td>\n",
       "      <td>4535.971404</td>\n",
       "      <td>175.268533</td>\n",
       "      <td>17.255254</td>\n",
       "      <td>5.828810</td>\n",
       "    </tr>\n",
       "    <tr>\n",
       "      <th>min</th>\n",
       "      <td>1.000000e+00</td>\n",
       "      <td>0.000000</td>\n",
       "      <td>1.000000</td>\n",
       "      <td>0.000056</td>\n",
       "      <td>-159.530300</td>\n",
       "      <td>2.466618</td>\n",
       "    </tr>\n",
       "    <tr>\n",
       "      <th>25%</th>\n",
       "      <td>8.490000e+02</td>\n",
       "      <td>1.000000</td>\n",
       "      <td>750.000000</td>\n",
       "      <td>0.866010</td>\n",
       "      <td>-110.902512</td>\n",
       "      <td>32.822226</td>\n",
       "    </tr>\n",
       "    <tr>\n",
       "      <th>50%</th>\n",
       "      <td>1.195000e+03</td>\n",
       "      <td>2.000000</td>\n",
       "      <td>969.000000</td>\n",
       "      <td>1.179412</td>\n",
       "      <td>-92.435923</td>\n",
       "      <td>36.908491</td>\n",
       "    </tr>\n",
       "    <tr>\n",
       "      <th>75%</th>\n",
       "      <td>1.700000e+03</td>\n",
       "      <td>2.000000</td>\n",
       "      <td>1210.000000</td>\n",
       "      <td>1.776169</td>\n",
       "      <td>-80.985114</td>\n",
       "      <td>40.768500</td>\n",
       "    </tr>\n",
       "    <tr>\n",
       "      <th>max</th>\n",
       "      <td>1.400135e+07</td>\n",
       "      <td>9.000000</td>\n",
       "      <td>999000.000000</td>\n",
       "      <td>30003.500000</td>\n",
       "      <td>0.000000</td>\n",
       "      <td>165.383045</td>\n",
       "    </tr>\n",
       "  </tbody>\n",
       "</table>\n",
       "</div>"
      ],
      "text/plain": [
       "               rent       bedrooms           sqft      rent_sqft  \\\n",
       "count  1.499090e+05  149909.000000  149909.000000  149909.000000   \n",
       "mean   3.048307e+03       1.923540    1107.049590       3.868691   \n",
       "std    1.248294e+05       0.999565    4535.971404     175.268533   \n",
       "min    1.000000e+00       0.000000       1.000000       0.000056   \n",
       "25%    8.490000e+02       1.000000     750.000000       0.866010   \n",
       "50%    1.195000e+03       2.000000     969.000000       1.179412   \n",
       "75%    1.700000e+03       2.000000    1210.000000       1.776169   \n",
       "max    1.400135e+07       9.000000  999000.000000   30003.500000   \n",
       "\n",
       "           longitude       latitude  \n",
       "count  149909.000000  149909.000000  \n",
       "mean      -95.139311      36.833912  \n",
       "std        17.255254       5.828810  \n",
       "min      -159.530300       2.466618  \n",
       "25%      -110.902512      32.822226  \n",
       "50%       -92.435923      36.908491  \n",
       "75%       -80.985114      40.768500  \n",
       "max         0.000000     165.383045  "
      ]
     },
     "execution_count": 12,
     "metadata": {},
     "output_type": "execute_result"
    }
   ],
   "source": [
    "print(df.dtypes)\n",
    "df.describe()\n"
   ]
  },
  {
   "cell_type": "code",
   "execution_count": null,
   "metadata": {
    "collapsed": false
   },
   "outputs": [],
   "source": [
    "sfbay = df[df['region']=='sfbay']\n",
    "sfbay.describe()"
   ]
  },
  {
   "cell_type": "code",
   "execution_count": null,
   "metadata": {
    "collapsed": false
   },
   "outputs": [],
   "source": [
    "geocoded = pd.read_csv('data/craigslist_data_wblockid.csv', dtype={'GEOID10': object}).rename(columns={'GEOID10':'fips_block'})"
   ]
  },
  {
   "cell_type": "code",
   "execution_count": null,
   "metadata": {
    "collapsed": false
   },
   "outputs": [],
   "source": [
    "print(geocoded.columns)\n",
    "geocoded.describe()"
   ]
  },
  {
   "cell_type": "code",
   "execution_count": null,
   "metadata": {
    "collapsed": false
   },
   "outputs": [],
   "source": [
    "geocoded[:10]"
   ]
  },
  {
   "cell_type": "code",
   "execution_count": null,
   "metadata": {
    "collapsed": false
   },
   "outputs": [],
   "source": [
    "sfbay_geocoded = geocoded[geocoded['region']=='sfbay']\n",
    "sfbay_geocoded.describe()"
   ]
  },
  {
   "cell_type": "code",
   "execution_count": null,
   "metadata": {
    "collapsed": true
   },
   "outputs": [],
   "source": []
  }
 ],
 "metadata": {
  "anaconda-cloud": {},
  "kernelspec": {
   "display_name": "Python [default]",
   "language": "python",
   "name": "python3"
  },
  "language_info": {
   "codemirror_mode": {
    "name": "ipython",
    "version": 3
   },
   "file_extension": ".py",
   "mimetype": "text/x-python",
   "name": "python",
   "nbconvert_exporter": "python",
   "pygments_lexer": "ipython3",
   "version": "3.5.2"
  }
 },
 "nbformat": 4,
 "nbformat_minor": 1
}
